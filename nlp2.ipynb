{
  "nbformat": 4,
  "nbformat_minor": 0,
  "metadata": {
    "colab": {
      "provenance": []
    },
    "kernelspec": {
      "name": "python3",
      "display_name": "Python 3"
    },
    "language_info": {
      "name": "python"
    }
  },
  "cells": [
    {
      "cell_type": "code",
      "execution_count": null,
      "metadata": {
        "colab": {
          "base_uri": "https://localhost:8080/"
        },
        "id": "NLO8NKV1JQzL",
        "outputId": "03e32a8c-2f34-4321-fa65-7aea53816f83"
      },
      "outputs": [
        {
          "output_type": "stream",
          "name": "stderr",
          "text": [
            "[nltk_data] Downloading package punkt to /root/nltk_data...\n",
            "[nltk_data]   Unzipping tokenizers/punkt.zip.\n"
          ]
        },
        {
          "output_type": "stream",
          "name": "stdout",
          "text": [
            "Bigrams:\n",
            "('Natural', 'language')\n",
            "('language', 'processing')\n",
            "('processing', '(')\n",
            "('(', 'NLP')\n",
            "('NLP', ')')\n",
            "(')', 'is')\n",
            "('is', 'a')\n",
            "('a', 'subfield')\n",
            "('subfield', 'of')\n",
            "('of', 'linguistics')\n",
            "('linguistics', ',')\n",
            "(',', 'computer')\n",
            "('computer', 'science')\n",
            "('science', ',')\n",
            "(',', 'and')\n",
            "('and', 'artificial')\n",
            "('artificial', 'intelligence')\n",
            "('intelligence', 'concerned')\n",
            "('concerned', 'with')\n",
            "('with', 'the')\n",
            "('the', 'interactions')\n",
            "('interactions', 'between')\n",
            "('between', 'computers')\n",
            "('computers', 'and')\n",
            "('and', 'human')\n",
            "('human', 'language')\n",
            "('language', ',')\n",
            "(',', 'in')\n",
            "('in', 'particular')\n",
            "('particular', 'how')\n",
            "('how', 'to')\n",
            "('to', 'program')\n",
            "('program', 'computers')\n",
            "('computers', 'to')\n",
            "('to', 'process')\n",
            "('process', 'and')\n",
            "('and', 'analyze')\n",
            "('analyze', 'large')\n",
            "('large', 'amounts')\n",
            "('amounts', 'of')\n",
            "('of', 'natural')\n",
            "('natural', 'language')\n",
            "('language', 'data')\n",
            "('data', '.')\n"
          ]
        }
      ],
      "source": [
        "import nltk\n",
        "from nltk import word_tokenize, bigrams\n",
        "\n",
        "# Ensure necessary NLTK data is downloaded\n",
        "nltk.download('punkt')\n",
        "\n",
        "# Sample text corpus\n",
        "text = \"\"\"\n",
        "Natural language processing (NLP) is a subfield of linguistics, computer science, and artificial intelligence concerned with the interactions between computers and human language, in particular how to program computers to process and analyze large amounts of natural language data.\n",
        "\"\"\"\n",
        "\n",
        "# Tokenize the text into words\n",
        "tokens = word_tokenize(text)\n",
        "\n",
        "# Generate bigrams\n",
        "bigrams_list = list(bigrams(tokens))\n",
        "\n",
        "# Print bigrams\n",
        "print(\"Bigrams:\")\n",
        "for bigram in bigrams_list:\n",
        "    print(bigram)"
      ]
    }
  ]
}